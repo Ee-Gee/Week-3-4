{
 "cells": [
  {
   "cell_type": "code",
   "execution_count": 1,
   "metadata": {},
   "outputs": [],
   "source": [
    "import pandas as pd\n",
    "import numpy as np"
   ]
  },
  {
   "cell_type": "code",
   "execution_count": 2,
   "metadata": {},
   "outputs": [
    {
     "data": {
      "text/plain": [
       "array([ 1,  2, 10,  4,  2,  3])"
      ]
     },
     "execution_count": 2,
     "metadata": {},
     "output_type": "execute_result"
    }
   ],
   "source": [
    "# One dimensional numpy array\n",
    "np.array([1, 2, 10, 4, 2, 3])"
   ]
  },
  {
   "cell_type": "code",
   "execution_count": 5,
   "metadata": {},
   "outputs": [],
   "source": [
    "# Two dimensional numpy array\n",
    "arr = np.array([[1, 10, 20], [23, 23, 234]])"
   ]
  },
  {
   "cell_type": "code",
   "execution_count": 6,
   "metadata": {},
   "outputs": [
    {
     "name": "stdout",
     "output_type": "stream",
     "text": [
      "(2, 3)\n"
     ]
    }
   ],
   "source": [
    "print(arr.shape)"
   ]
  },
  {
   "cell_type": "code",
   "execution_count": 9,
   "metadata": {},
   "outputs": [
    {
     "data": {
      "text/plain": [
       "array([[0, 0, 0],\n",
       "       [0, 0, 0],\n",
       "       [0, 0, 0],\n",
       "       [0, 0, 0]])"
      ]
     },
     "execution_count": 9,
     "metadata": {},
     "output_type": "execute_result"
    }
   ],
   "source": [
    "arr2 = np.zeros([4, 3], dtype = int)\n",
    "arr2"
   ]
  },
  {
   "cell_type": "code",
   "execution_count": 10,
   "metadata": {},
   "outputs": [
    {
     "name": "stdout",
     "output_type": "stream",
     "text": [
      "[[36 81 44 90 81]]\n",
      "[[76]\n",
      " [ 3]\n",
      " [84]\n",
      " [41]\n",
      " [64]\n",
      " [85]]\n"
     ]
    }
   ],
   "source": [
    "# Generate a (x, y) shape of numpy array\n",
    "\n",
    "a = np.random.randint(1, 100, size=(1, 5))\n",
    "b = np.random.randint(1, 100, size=(6, 1))\n",
    "print(a)\n",
    "print(b)"
   ]
  },
  {
   "cell_type": "code",
   "execution_count": 11,
   "metadata": {},
   "outputs": [
    {
     "name": "stdout",
     "output_type": "stream",
     "text": [
      "[[2736 6156 3344 6840 6156]\n",
      " [ 108  243  132  270  243]\n",
      " [3024 6804 3696 7560 6804]\n",
      " [1476 3321 1804 3690 3321]\n",
      " [2304 5184 2816 5760 5184]\n",
      " [3060 6885 3740 7650 6885]]\n"
     ]
    }
   ],
   "source": [
    "# The number of columns of the 1st matrix must equal the number of rows of the 2nd matrix.\n",
    "# And the result will have the same number of rows as the 1st matrix, and the same number of columns as the 2nd matrix.\n",
    "result = a * b\n",
    "print(result)"
   ]
  },
  {
   "cell_type": "code",
   "execution_count": 13,
   "metadata": {},
   "outputs": [
    {
     "data": {
      "text/plain": [
       "array([6156,  243, 6804, 3321, 5184, 6885])"
      ]
     },
     "execution_count": 13,
     "metadata": {},
     "output_type": "execute_result"
    }
   ],
   "source": [
    "# Get me the second column\n",
    "result[0:, 1]"
   ]
  },
  {
   "cell_type": "code",
   "execution_count": 15,
   "metadata": {},
   "outputs": [
    {
     "name": "stdout",
     "output_type": "stream",
     "text": [
      "[[2736 6156 3344 6840]\n",
      " [ 108  243  132  270]\n",
      " [3024 6804 3696 7560]]\n"
     ]
    }
   ],
   "source": [
    "print(result[0:3,0:4])"
   ]
  },
  {
   "cell_type": "code",
   "execution_count": 17,
   "metadata": {},
   "outputs": [
    {
     "name": "stdout",
     "output_type": "stream",
     "text": [
      "[[3344 6840]\n",
      " [ 132  270]\n",
      " [3696 7560]\n",
      " [1804 3690]]\n"
     ]
    },
    {
     "data": {
      "text/plain": [
       "array([[2736],\n",
       "       [ 108],\n",
       "       [3024],\n",
       "       [1476],\n",
       "       [2304],\n",
       "       [3060]])"
      ]
     },
     "execution_count": 17,
     "metadata": {},
     "output_type": "execute_result"
    }
   ],
   "source": [
    "print(result[0:4, 2:4])\n",
    "result[0:, 0:1]"
   ]
  },
  {
   "cell_type": "code",
   "execution_count": 18,
   "metadata": {},
   "outputs": [
    {
     "data": {
      "text/plain": [
       "array([[3344, 6840, 6156],\n",
       "       [ 132,  270,  243],\n",
       "       [3696, 7560, 6804],\n",
       "       [1804, 3690, 3321]])"
      ]
     },
     "execution_count": 18,
     "metadata": {},
     "output_type": "execute_result"
    }
   ],
   "source": [
    "# Get me the first column\n",
    "# Get me the first and second column\n",
    "# Get me from the 0th row 4th row to 2rd column and 4th column\n",
    "result[0:4, 2:5]"
   ]
  },
  {
   "cell_type": "code",
   "execution_count": 19,
   "metadata": {},
   "outputs": [
    {
     "data": {
      "text/html": [
       "<div>\n",
       "<style scoped>\n",
       "    .dataframe tbody tr th:only-of-type {\n",
       "        vertical-align: middle;\n",
       "    }\n",
       "\n",
       "    .dataframe tbody tr th {\n",
       "        vertical-align: top;\n",
       "    }\n",
       "\n",
       "    .dataframe thead th {\n",
       "        text-align: right;\n",
       "    }\n",
       "</style>\n",
       "<table border=\"1\" class=\"dataframe\">\n",
       "  <thead>\n",
       "    <tr style=\"text-align: right;\">\n",
       "      <th></th>\n",
       "      <th>Age</th>\n",
       "      <th>Height</th>\n",
       "      <th>Score</th>\n",
       "      <th>Rating</th>\n",
       "      <th>Distance</th>\n",
       "    </tr>\n",
       "  </thead>\n",
       "  <tbody>\n",
       "    <tr>\n",
       "      <th>0</th>\n",
       "      <td>2736</td>\n",
       "      <td>6156</td>\n",
       "      <td>3344</td>\n",
       "      <td>6840</td>\n",
       "      <td>6156</td>\n",
       "    </tr>\n",
       "    <tr>\n",
       "      <th>1</th>\n",
       "      <td>108</td>\n",
       "      <td>243</td>\n",
       "      <td>132</td>\n",
       "      <td>270</td>\n",
       "      <td>243</td>\n",
       "    </tr>\n",
       "    <tr>\n",
       "      <th>2</th>\n",
       "      <td>3024</td>\n",
       "      <td>6804</td>\n",
       "      <td>3696</td>\n",
       "      <td>7560</td>\n",
       "      <td>6804</td>\n",
       "    </tr>\n",
       "    <tr>\n",
       "      <th>3</th>\n",
       "      <td>1476</td>\n",
       "      <td>3321</td>\n",
       "      <td>1804</td>\n",
       "      <td>3690</td>\n",
       "      <td>3321</td>\n",
       "    </tr>\n",
       "    <tr>\n",
       "      <th>4</th>\n",
       "      <td>2304</td>\n",
       "      <td>5184</td>\n",
       "      <td>2816</td>\n",
       "      <td>5760</td>\n",
       "      <td>5184</td>\n",
       "    </tr>\n",
       "    <tr>\n",
       "      <th>5</th>\n",
       "      <td>3060</td>\n",
       "      <td>6885</td>\n",
       "      <td>3740</td>\n",
       "      <td>7650</td>\n",
       "      <td>6885</td>\n",
       "    </tr>\n",
       "  </tbody>\n",
       "</table>\n",
       "</div>"
      ],
      "text/plain": [
       "    Age  Height  Score  Rating  Distance\n",
       "0  2736    6156   3344    6840      6156\n",
       "1   108     243    132     270       243\n",
       "2  3024    6804   3696    7560      6804\n",
       "3  1476    3321   1804    3690      3321\n",
       "4  2304    5184   2816    5760      5184\n",
       "5  3060    6885   3740    7650      6885"
      ]
     },
     "execution_count": 19,
     "metadata": {},
     "output_type": "execute_result"
    }
   ],
   "source": [
    "# Convert these into a dataframe\n",
    "df = pd.DataFrame.from_records(result, columns=[\"Age\", \"Height\", \"Score\", \"Rating\", \"Distance\"])\n",
    "df"
   ]
  },
  {
   "cell_type": "code",
   "execution_count": 20,
   "metadata": {},
   "outputs": [
    {
     "data": {
      "text/plain": [
       "0    2736\n",
       "1     108\n",
       "2    3024\n",
       "3    1476\n",
       "4    2304\n",
       "5    3060\n",
       "Name: Age, dtype: int64"
      ]
     },
     "execution_count": 20,
     "metadata": {},
     "output_type": "execute_result"
    }
   ],
   "source": [
    "df[\"Age\"]"
   ]
  },
  {
   "cell_type": "code",
   "execution_count": 32,
   "metadata": {},
   "outputs": [
    {
     "data": {
      "text/plain": [
       "12559698.0"
      ]
     },
     "execution_count": 32,
     "metadata": {},
     "output_type": "execute_result"
    }
   ],
   "source": [
    "df2 = df[\"Age\"]*df[\"Distance\"]\n",
    "df2.mean()"
   ]
  },
  {
   "cell_type": "code",
   "execution_count": 25,
   "metadata": {},
   "outputs": [
    {
     "name": "stdout",
     "output_type": "stream",
     "text": [
      "    Age  Height  Score  Rating  Distance\n",
      "0  2736    6156   3344    6840      6156\n",
      "2  3024    6804   3696    7560      6804\n",
      "3  1476    3321   1804    3690      3321\n",
      "4  2304    5184   2816    5760      5184\n",
      "5  3060    6885   3740    7650      6885\n"
     ]
    }
   ],
   "source": [
    "df1 = df[df[\"Height\"]>= 3000]\n",
    "print(df1)"
   ]
  },
  {
   "cell_type": "code",
   "execution_count": 38,
   "metadata": {},
   "outputs": [
    {
     "name": "stdout",
     "output_type": "stream",
     "text": [
      "0    22872960\n",
      "2    27941760\n",
      "3     6656760\n",
      "4    16220160\n",
      "5    28611000\n",
      "dtype: int64\n"
     ]
    },
    {
     "data": {
      "text/plain": [
       "20460528.0"
      ]
     },
     "execution_count": 38,
     "metadata": {},
     "output_type": "execute_result"
    }
   ],
   "source": [
    "df3 = df[df[\"Height\"]>=3000]\n",
    "x = df3[\"Score\"]*df3[\"Rating\"]\n",
    "print(x)\n",
    "x.mean()"
   ]
  },
  {
   "cell_type": "code",
   "execution_count": null,
   "metadata": {},
   "outputs": [],
   "source": []
  }
 ],
 "metadata": {
  "kernelspec": {
   "display_name": "Python 3",
   "language": "python",
   "name": "python3"
  },
  "language_info": {
   "codemirror_mode": {
    "name": "ipython",
    "version": 3
   },
   "file_extension": ".py",
   "mimetype": "text/x-python",
   "name": "python",
   "nbconvert_exporter": "python",
   "pygments_lexer": "ipython3",
   "version": "3.7.6"
  }
 },
 "nbformat": 4,
 "nbformat_minor": 4
}
