{
 "cells": [
  {
   "cell_type": "code",
   "execution_count": 1,
   "metadata": {},
   "outputs": [],
   "source": [
    "import pandas as pd\n",
    "import numpy as np"
   ]
  },
  {
   "cell_type": "code",
   "execution_count": 2,
   "metadata": {},
   "outputs": [
    {
     "data": {
      "text/plain": [
       "array([ 1,  2, 10,  4,  2,  3])"
      ]
     },
     "execution_count": 2,
     "metadata": {},
     "output_type": "execute_result"
    }
   ],
   "source": [
    "# One dimensional numpy array\n",
    "np.array([1, 2, 10, 4, 2, 3])"
   ]
  },
  {
   "cell_type": "code",
   "execution_count": 3,
   "metadata": {},
   "outputs": [
    {
     "data": {
      "text/plain": [
       "array([[  1,  10,  20],\n",
       "       [ 23,  23, 234]])"
      ]
     },
     "execution_count": 3,
     "metadata": {},
     "output_type": "execute_result"
    }
   ],
   "source": [
    "# Two dimensional numpy array\n",
    "np.array([[1, 10, 20], [23, 23, 234]])"
   ]
  },
  {
   "cell_type": "code",
   "execution_count": 4,
   "metadata": {},
   "outputs": [
    {
     "name": "stdout",
     "output_type": "stream",
     "text": [
      "[[95 67 68 74 83]]\n",
      "[[56]\n",
      " [57]\n",
      " [17]\n",
      " [30]\n",
      " [40]\n",
      " [89]]\n"
     ]
    }
   ],
   "source": [
    "# Generate a (x, y) shape of numpy array\n",
    "\n",
    "a = np.random.randint(1, 100, size=(1, 5))\n",
    "b = np.random.randint(1, 100, size=(6, 1))\n",
    "print(a)\n",
    "print(b)"
   ]
  },
  {
   "cell_type": "code",
   "execution_count": 5,
   "metadata": {},
   "outputs": [
    {
     "name": "stdout",
     "output_type": "stream",
     "text": [
      "[[5320 3752 3808 4144 4648]\n",
      " [5415 3819 3876 4218 4731]\n",
      " [1615 1139 1156 1258 1411]\n",
      " [2850 2010 2040 2220 2490]\n",
      " [3800 2680 2720 2960 3320]\n",
      " [8455 5963 6052 6586 7387]]\n"
     ]
    }
   ],
   "source": [
    "# The number of columns of the 1st matrix must equal the number of rows of the 2nd matrix.\n",
    "# And the result will have the same number of rows as the 1st matrix, and the same number of columns as the 2nd matrix.\n",
    "result = a * b\n",
    "print(result)"
   ]
  },
  {
   "cell_type": "code",
   "execution_count": 7,
   "metadata": {},
   "outputs": [
    {
     "data": {
      "text/plain": [
       "array([3752, 3819, 1139, 2010, 2680, 5963])"
      ]
     },
     "execution_count": 7,
     "metadata": {},
     "output_type": "execute_result"
    }
   ],
   "source": [
    "# Get me the second column\n",
    "result[0:, 1]"
   ]
  },
  {
   "cell_type": "code",
   "execution_count": 8,
   "metadata": {},
   "outputs": [
    {
     "data": {
      "text/plain": [
       "array([[3808, 4144],\n",
       "       [3876, 4218],\n",
       "       [1156, 1258],\n",
       "       [2040, 2220]])"
      ]
     },
     "execution_count": 8,
     "metadata": {},
     "output_type": "execute_result"
    }
   ],
   "source": [
    "# Get me the first column\n",
    "# Get me the first and second column\n",
    "# Get me from the 0th row 4th row to 2rd column and 4th column\n",
    "result[0:4, 2:4]"
   ]
  },
  {
   "cell_type": "code",
   "execution_count": 9,
   "metadata": {},
   "outputs": [
    {
     "data": {
      "text/html": [
       "<div>\n",
       "<style scoped>\n",
       "    .dataframe tbody tr th:only-of-type {\n",
       "        vertical-align: middle;\n",
       "    }\n",
       "\n",
       "    .dataframe tbody tr th {\n",
       "        vertical-align: top;\n",
       "    }\n",
       "\n",
       "    .dataframe thead th {\n",
       "        text-align: right;\n",
       "    }\n",
       "</style>\n",
       "<table border=\"1\" class=\"dataframe\">\n",
       "  <thead>\n",
       "    <tr style=\"text-align: right;\">\n",
       "      <th></th>\n",
       "      <th>Age</th>\n",
       "      <th>Height</th>\n",
       "      <th>Score</th>\n",
       "      <th>Rating</th>\n",
       "      <th>Distance</th>\n",
       "    </tr>\n",
       "  </thead>\n",
       "  <tbody>\n",
       "    <tr>\n",
       "      <th>0</th>\n",
       "      <td>5320</td>\n",
       "      <td>3752</td>\n",
       "      <td>3808</td>\n",
       "      <td>4144</td>\n",
       "      <td>4648</td>\n",
       "    </tr>\n",
       "    <tr>\n",
       "      <th>1</th>\n",
       "      <td>5415</td>\n",
       "      <td>3819</td>\n",
       "      <td>3876</td>\n",
       "      <td>4218</td>\n",
       "      <td>4731</td>\n",
       "    </tr>\n",
       "    <tr>\n",
       "      <th>2</th>\n",
       "      <td>1615</td>\n",
       "      <td>1139</td>\n",
       "      <td>1156</td>\n",
       "      <td>1258</td>\n",
       "      <td>1411</td>\n",
       "    </tr>\n",
       "    <tr>\n",
       "      <th>3</th>\n",
       "      <td>2850</td>\n",
       "      <td>2010</td>\n",
       "      <td>2040</td>\n",
       "      <td>2220</td>\n",
       "      <td>2490</td>\n",
       "    </tr>\n",
       "    <tr>\n",
       "      <th>4</th>\n",
       "      <td>3800</td>\n",
       "      <td>2680</td>\n",
       "      <td>2720</td>\n",
       "      <td>2960</td>\n",
       "      <td>3320</td>\n",
       "    </tr>\n",
       "    <tr>\n",
       "      <th>5</th>\n",
       "      <td>8455</td>\n",
       "      <td>5963</td>\n",
       "      <td>6052</td>\n",
       "      <td>6586</td>\n",
       "      <td>7387</td>\n",
       "    </tr>\n",
       "  </tbody>\n",
       "</table>\n",
       "</div>"
      ],
      "text/plain": [
       "    Age  Height  Score  Rating  Distance\n",
       "0  5320    3752   3808    4144      4648\n",
       "1  5415    3819   3876    4218      4731\n",
       "2  1615    1139   1156    1258      1411\n",
       "3  2850    2010   2040    2220      2490\n",
       "4  3800    2680   2720    2960      3320\n",
       "5  8455    5963   6052    6586      7387"
      ]
     },
     "execution_count": 9,
     "metadata": {},
     "output_type": "execute_result"
    }
   ],
   "source": [
    "# Convert these into a dataframe\n",
    "df = pd.DataFrame.from_records(result, columns=[\"Age\", \"Height\", \"Score\", \"Rating\", \"Distance\"])\n",
    "df"
   ]
  },
  {
   "cell_type": "code",
   "execution_count": 10,
   "metadata": {},
   "outputs": [
    {
     "data": {
      "text/plain": [
       "0    5320\n",
       "1    5415\n",
       "2    1615\n",
       "3    2850\n",
       "4    3800\n",
       "5    8455\n",
       "Name: Age, dtype: int64"
      ]
     },
     "execution_count": 10,
     "metadata": {},
     "output_type": "execute_result"
    }
   ],
   "source": [
    "df[\"Age\"]"
   ]
  },
  {
   "cell_type": "code",
   "execution_count": 16,
   "metadata": {},
   "outputs": [],
   "source": [
    "df1 = df[df[\"Height\"]>= 2000]\n",
    "print(df1)"
   ]
  },
  {
   "cell_type": "code",
   "execution_count": 17,
   "metadata": {},
   "outputs": [
    {
     "data": {
      "text/html": [
       "<div>\n",
       "<style scoped>\n",
       "    .dataframe tbody tr th:only-of-type {\n",
       "        vertical-align: middle;\n",
       "    }\n",
       "\n",
       "    .dataframe tbody tr th {\n",
       "        vertical-align: top;\n",
       "    }\n",
       "\n",
       "    .dataframe thead th {\n",
       "        text-align: right;\n",
       "    }\n",
       "</style>\n",
       "<table border=\"1\" class=\"dataframe\">\n",
       "  <thead>\n",
       "    <tr style=\"text-align: right;\">\n",
       "      <th></th>\n",
       "      <th>Age</th>\n",
       "      <th>Height</th>\n",
       "      <th>Score</th>\n",
       "      <th>Rating</th>\n",
       "      <th>Distance</th>\n",
       "    </tr>\n",
       "  </thead>\n",
       "  <tbody>\n",
       "    <tr>\n",
       "      <th>0</th>\n",
       "      <td>5320</td>\n",
       "      <td>3752</td>\n",
       "      <td>3808</td>\n",
       "      <td>4144</td>\n",
       "      <td>4648</td>\n",
       "    </tr>\n",
       "    <tr>\n",
       "      <th>1</th>\n",
       "      <td>5415</td>\n",
       "      <td>3819</td>\n",
       "      <td>3876</td>\n",
       "      <td>4218</td>\n",
       "      <td>4731</td>\n",
       "    </tr>\n",
       "    <tr>\n",
       "      <th>3</th>\n",
       "      <td>2850</td>\n",
       "      <td>2010</td>\n",
       "      <td>2040</td>\n",
       "      <td>2220</td>\n",
       "      <td>2490</td>\n",
       "    </tr>\n",
       "    <tr>\n",
       "      <th>4</th>\n",
       "      <td>3800</td>\n",
       "      <td>2680</td>\n",
       "      <td>2720</td>\n",
       "      <td>2960</td>\n",
       "      <td>3320</td>\n",
       "    </tr>\n",
       "    <tr>\n",
       "      <th>5</th>\n",
       "      <td>8455</td>\n",
       "      <td>5963</td>\n",
       "      <td>6052</td>\n",
       "      <td>6586</td>\n",
       "      <td>7387</td>\n",
       "    </tr>\n",
       "  </tbody>\n",
       "</table>\n",
       "</div>"
      ],
      "text/plain": [
       "    Age  Height  Score  Rating  Distance\n",
       "0  5320    3752   3808    4144      4648\n",
       "1  5415    3819   3876    4218      4731\n",
       "3  2850    2010   2040    2220      2490\n",
       "4  3800    2680   2720    2960      3320\n",
       "5  8455    5963   6052    6586      7387"
      ]
     },
     "execution_count": 17,
     "metadata": {},
     "output_type": "execute_result"
    }
   ],
   "source": [
    "df1"
   ]
  },
  {
   "cell_type": "code",
   "execution_count": null,
   "metadata": {},
   "outputs": [],
   "source": []
  }
 ],
 "metadata": {
  "kernelspec": {
   "display_name": "Python 3",
   "language": "python",
   "name": "python3"
  },
  "language_info": {
   "codemirror_mode": {
    "name": "ipython",
    "version": 3
   },
   "file_extension": ".py",
   "mimetype": "text/x-python",
   "name": "python",
   "nbconvert_exporter": "python",
   "pygments_lexer": "ipython3",
   "version": "3.7.6"
  }
 },
 "nbformat": 4,
 "nbformat_minor": 4
}
